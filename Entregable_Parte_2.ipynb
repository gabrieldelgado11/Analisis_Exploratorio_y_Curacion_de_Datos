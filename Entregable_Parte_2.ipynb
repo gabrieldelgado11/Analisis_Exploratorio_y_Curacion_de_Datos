{
 "cells": [
  {
   "cell_type": "markdown",
   "metadata": {
    "id": "zO4bRoxr2Apy"
   },
   "source": [
    "**Diplomatura en Ciencia de Datos, Aprendizaje Automático y sus Aplicaciones**\n",
    "\n",
    "**Edición 2021**\n",
    "\n",
    "**Exploración y Curación de Datos**\n",
    "\n",
    "---\n",
    "## Trabajo práctico entregable - Parte 2\n",
    "\n",
    "* Adriano Antonello\n",
    "* Gabriel Delgado\n",
    "* Pablo Casas\n"
   ]
  },
  {
   "cell_type": "code",
   "execution_count": 1,
   "metadata": {
    "id": "4udjxjk1EtVU"
   },
   "outputs": [],
   "source": [
    "import matplotlib.pyplot as plt\n",
    "import numpy as np\n",
    "import pandas as pd\n",
    "import seaborn as sns\n",
    "sns.set_context('talk')\n",
    "from sklearn.preprocessing import OneHotEncoder\n",
    "from sklearn import preprocessing"
   ]
  },
  {
   "cell_type": "code",
   "execution_count": 2,
   "metadata": {
    "colab": {
     "base_uri": "https://localhost:8080/",
     "height": 143
    },
    "id": "_qeFN3GnEvMk",
    "outputId": "70f540f1-e999-4f78-a2f0-4374fb0a24b1"
   },
   "outputs": [
    {
     "data": {
      "text/html": [
       "<div>\n",
       "<style scoped>\n",
       "    .dataframe tbody tr th:only-of-type {\n",
       "        vertical-align: middle;\n",
       "    }\n",
       "\n",
       "    .dataframe tbody tr th {\n",
       "        vertical-align: top;\n",
       "    }\n",
       "\n",
       "    .dataframe thead th {\n",
       "        text-align: right;\n",
       "    }\n",
       "</style>\n",
       "<table border=\"1\" class=\"dataframe\">\n",
       "  <thead>\n",
       "    <tr style=\"text-align: right;\">\n",
       "      <th></th>\n",
       "      <th>Suburb</th>\n",
       "      <th>Address</th>\n",
       "      <th>Rooms</th>\n",
       "      <th>Type</th>\n",
       "      <th>Price</th>\n",
       "      <th>Method</th>\n",
       "      <th>SellerG</th>\n",
       "      <th>Date</th>\n",
       "      <th>Distance</th>\n",
       "      <th>Postcode</th>\n",
       "      <th>...</th>\n",
       "      <th>Bathroom</th>\n",
       "      <th>Car</th>\n",
       "      <th>Landsize</th>\n",
       "      <th>BuildingArea</th>\n",
       "      <th>YearBuilt</th>\n",
       "      <th>CouncilArea</th>\n",
       "      <th>Lattitude</th>\n",
       "      <th>Longtitude</th>\n",
       "      <th>Regionname</th>\n",
       "      <th>Propertycount</th>\n",
       "    </tr>\n",
       "  </thead>\n",
       "  <tbody>\n",
       "    <tr>\n",
       "      <th>0</th>\n",
       "      <td>Abbotsford</td>\n",
       "      <td>85 Turner St</td>\n",
       "      <td>2</td>\n",
       "      <td>h</td>\n",
       "      <td>1480000.0</td>\n",
       "      <td>S</td>\n",
       "      <td>Biggin</td>\n",
       "      <td>3/12/2016</td>\n",
       "      <td>2.5</td>\n",
       "      <td>3067.0</td>\n",
       "      <td>...</td>\n",
       "      <td>1.0</td>\n",
       "      <td>1.0</td>\n",
       "      <td>202.0</td>\n",
       "      <td>NaN</td>\n",
       "      <td>NaN</td>\n",
       "      <td>Yarra</td>\n",
       "      <td>-37.7996</td>\n",
       "      <td>144.9984</td>\n",
       "      <td>Northern Metropolitan</td>\n",
       "      <td>4019.0</td>\n",
       "    </tr>\n",
       "    <tr>\n",
       "      <th>1</th>\n",
       "      <td>Abbotsford</td>\n",
       "      <td>25 Bloomburg St</td>\n",
       "      <td>2</td>\n",
       "      <td>h</td>\n",
       "      <td>1035000.0</td>\n",
       "      <td>S</td>\n",
       "      <td>Biggin</td>\n",
       "      <td>4/02/2016</td>\n",
       "      <td>2.5</td>\n",
       "      <td>3067.0</td>\n",
       "      <td>...</td>\n",
       "      <td>1.0</td>\n",
       "      <td>0.0</td>\n",
       "      <td>156.0</td>\n",
       "      <td>79.0</td>\n",
       "      <td>1900.0</td>\n",
       "      <td>Yarra</td>\n",
       "      <td>-37.8079</td>\n",
       "      <td>144.9934</td>\n",
       "      <td>Northern Metropolitan</td>\n",
       "      <td>4019.0</td>\n",
       "    </tr>\n",
       "    <tr>\n",
       "      <th>2</th>\n",
       "      <td>Abbotsford</td>\n",
       "      <td>5 Charles St</td>\n",
       "      <td>3</td>\n",
       "      <td>h</td>\n",
       "      <td>1465000.0</td>\n",
       "      <td>SP</td>\n",
       "      <td>Biggin</td>\n",
       "      <td>4/03/2017</td>\n",
       "      <td>2.5</td>\n",
       "      <td>3067.0</td>\n",
       "      <td>...</td>\n",
       "      <td>2.0</td>\n",
       "      <td>0.0</td>\n",
       "      <td>134.0</td>\n",
       "      <td>150.0</td>\n",
       "      <td>1900.0</td>\n",
       "      <td>Yarra</td>\n",
       "      <td>-37.8093</td>\n",
       "      <td>144.9944</td>\n",
       "      <td>Northern Metropolitan</td>\n",
       "      <td>4019.0</td>\n",
       "    </tr>\n",
       "    <tr>\n",
       "      <th>3</th>\n",
       "      <td>Abbotsford</td>\n",
       "      <td>40 Federation La</td>\n",
       "      <td>3</td>\n",
       "      <td>h</td>\n",
       "      <td>850000.0</td>\n",
       "      <td>PI</td>\n",
       "      <td>Biggin</td>\n",
       "      <td>4/03/2017</td>\n",
       "      <td>2.5</td>\n",
       "      <td>3067.0</td>\n",
       "      <td>...</td>\n",
       "      <td>2.0</td>\n",
       "      <td>1.0</td>\n",
       "      <td>94.0</td>\n",
       "      <td>NaN</td>\n",
       "      <td>NaN</td>\n",
       "      <td>Yarra</td>\n",
       "      <td>-37.7969</td>\n",
       "      <td>144.9969</td>\n",
       "      <td>Northern Metropolitan</td>\n",
       "      <td>4019.0</td>\n",
       "    </tr>\n",
       "    <tr>\n",
       "      <th>4</th>\n",
       "      <td>Abbotsford</td>\n",
       "      <td>55a Park St</td>\n",
       "      <td>4</td>\n",
       "      <td>h</td>\n",
       "      <td>1600000.0</td>\n",
       "      <td>VB</td>\n",
       "      <td>Nelson</td>\n",
       "      <td>4/06/2016</td>\n",
       "      <td>2.5</td>\n",
       "      <td>3067.0</td>\n",
       "      <td>...</td>\n",
       "      <td>1.0</td>\n",
       "      <td>2.0</td>\n",
       "      <td>120.0</td>\n",
       "      <td>142.0</td>\n",
       "      <td>2014.0</td>\n",
       "      <td>Yarra</td>\n",
       "      <td>-37.8072</td>\n",
       "      <td>144.9941</td>\n",
       "      <td>Northern Metropolitan</td>\n",
       "      <td>4019.0</td>\n",
       "    </tr>\n",
       "  </tbody>\n",
       "</table>\n",
       "<p>5 rows × 21 columns</p>\n",
       "</div>"
      ],
      "text/plain": [
       "       Suburb           Address  Rooms Type      Price Method SellerG  \\\n",
       "0  Abbotsford      85 Turner St      2    h  1480000.0      S  Biggin   \n",
       "1  Abbotsford   25 Bloomburg St      2    h  1035000.0      S  Biggin   \n",
       "2  Abbotsford      5 Charles St      3    h  1465000.0     SP  Biggin   \n",
       "3  Abbotsford  40 Federation La      3    h   850000.0     PI  Biggin   \n",
       "4  Abbotsford       55a Park St      4    h  1600000.0     VB  Nelson   \n",
       "\n",
       "        Date  Distance  Postcode  ...  Bathroom  Car  Landsize  BuildingArea  \\\n",
       "0  3/12/2016       2.5    3067.0  ...       1.0  1.0     202.0           NaN   \n",
       "1  4/02/2016       2.5    3067.0  ...       1.0  0.0     156.0          79.0   \n",
       "2  4/03/2017       2.5    3067.0  ...       2.0  0.0     134.0         150.0   \n",
       "3  4/03/2017       2.5    3067.0  ...       2.0  1.0      94.0           NaN   \n",
       "4  4/06/2016       2.5    3067.0  ...       1.0  2.0     120.0         142.0   \n",
       "\n",
       "   YearBuilt  CouncilArea Lattitude  Longtitude             Regionname  \\\n",
       "0        NaN        Yarra  -37.7996    144.9984  Northern Metropolitan   \n",
       "1     1900.0        Yarra  -37.8079    144.9934  Northern Metropolitan   \n",
       "2     1900.0        Yarra  -37.8093    144.9944  Northern Metropolitan   \n",
       "3        NaN        Yarra  -37.7969    144.9969  Northern Metropolitan   \n",
       "4     2014.0        Yarra  -37.8072    144.9941  Northern Metropolitan   \n",
       "\n",
       "  Propertycount  \n",
       "0        4019.0  \n",
       "1        4019.0  \n",
       "2        4019.0  \n",
       "3        4019.0  \n",
       "4        4019.0  \n",
       "\n",
       "[5 rows x 21 columns]"
      ]
     },
     "execution_count": 2,
     "metadata": {},
     "output_type": "execute_result"
    }
   ],
   "source": [
    "df_melb = pd.read_csv('melb_data.csv')\n",
    "df_melb[:5]"
   ]
  },
  {
   "cell_type": "markdown",
   "metadata": {
    "id": "s-mixICN22kA"
   },
   "source": [
    "## Ejercicio 1: Encoding\n",
    "\n",
    "1. Seleccionar todas las filas y columnas del conjunto de datos obtenido en la parte 1 del entregable, **excepto** `BuildingArea` y `YearBuilt`, que volveremos a imputar más adelante.\n",
    "\n",
    "2. Aplicar una codificación One-hot encoding a cada fila, tanto para variables numéricas como categóricas. Si lo consideran necesario, pueden volver a reducir el número de categorías únicas.\n",
    "\n",
    "Algunas opciones:\n",
    "  1. Utilizar `OneHotEncoder` junto con el parámetro `categories` para las variables categóricas y luego usar `numpy.hstack` para concatenar el resultado con las variables numéricas. \n",
    "  2. `DictVectorizer` con algunos pasos de pre-proceso previo.\n",
    "\n",
    "Recordar también que el atributo `pandas.DataFrame.values` permite acceder a la matriz de numpy subyacente a un DataFrame.\n"
   ]
  },
  {
   "cell_type": "code",
   "execution_count": 3,
   "metadata": {
    "colab": {
     "base_uri": "https://localhost:8080/"
    },
    "id": "e9t4Q_yY7Qch",
    "outputId": "3a47ebb5-b800-45e5-af51-c5d4853b7bac"
   },
   "outputs": [
    {
     "data": {
      "text/plain": [
       "Index(['Suburb', 'Address', 'Rooms', 'Type', 'Price', 'Method', 'SellerG',\n",
       "       'Date', 'Distance', 'Postcode', 'Bedroom2', 'Bathroom', 'Car',\n",
       "       'Landsize', 'BuildingArea', 'YearBuilt', 'CouncilArea', 'Lattitude',\n",
       "       'Longtitude', 'Regionname', 'Propertycount'],\n",
       "      dtype='object')"
      ]
     },
     "execution_count": 3,
     "metadata": {},
     "output_type": "execute_result"
    }
   ],
   "source": [
    "df_melb.columns"
   ]
  },
  {
   "cell_type": "markdown",
   "metadata": {
    "id": "-SpxY1uFD608"
   },
   "source": [
    "Separamos las columnas categoricas a las cuales vamos a hacer onehotencoder"
   ]
  },
  {
   "cell_type": "code",
   "execution_count": 4,
   "metadata": {
    "id": "K_Qk43aLIl4d"
   },
   "outputs": [],
   "source": [
    "categoric_cols = ['Type', 'CouncilArea', 'Suburb', 'Regionname'] \n",
    "numeric_cols = ['Rooms', 'Bedroom2', 'Bathroom', 'Car', 'Price', 'PrecioPromedioAirbnb', 'Distance', 'Propertycount']"
   ]
  },
  {
   "cell_type": "markdown",
   "metadata": {
    "id": "dF4S6SLiEVlg"
   },
   "source": [
    "Aplicamos one-hot encoding"
   ]
  },
  {
   "cell_type": "code",
   "execution_count": 5,
   "metadata": {
    "colab": {
     "base_uri": "https://localhost:8080/"
    },
    "id": "XVlCjdoW5fKb",
    "outputId": "2528cc45-ce38-41c5-da67-05626dba3b0f"
   },
   "outputs": [
    {
     "data": {
      "text/plain": [
       "OneHotEncoder(sparse=False)"
      ]
     },
     "execution_count": 5,
     "metadata": {},
     "output_type": "execute_result"
    }
   ],
   "source": [
    "df_melb=df_melb.dropna()\n",
    "encoder = OneHotEncoder(sparse=False)\n",
    "encoder.fit(df_melb[categoric_cols])"
   ]
  },
  {
   "cell_type": "code",
   "execution_count": 6,
   "metadata": {
    "colab": {
     "base_uri": "https://localhost:8080/"
    },
    "id": "Ws78QT32-JCN",
    "outputId": "b24c504b-06a6-41a5-82c6-fbcad4fcb421"
   },
   "outputs": [
    {
     "data": {
      "text/plain": [
       "array([[1., 0., 0., ..., 0., 0., 0.],\n",
       "       [1., 0., 0., ..., 0., 0., 0.],\n",
       "       [1., 0., 0., ..., 0., 0., 0.],\n",
       "       ...,\n",
       "       [0., 0., 1., ..., 0., 0., 0.],\n",
       "       [1., 0., 0., ..., 0., 0., 0.],\n",
       "       [1., 0., 0., ..., 0., 0., 0.]])"
      ]
     },
     "execution_count": 6,
     "metadata": {},
     "output_type": "execute_result"
    }
   ],
   "source": [
    "encoded_types = encoder.transform(df_melb[categoric_cols])\n",
    "encoded_types[:10]"
   ]
  },
  {
   "cell_type": "code",
   "execution_count": 7,
   "metadata": {
    "id": "DQ_0Fx2E_aAI"
   },
   "outputs": [],
   "source": [
    "df_encoded = pd.DataFrame(data=encoded_types, columns=encoder.get_feature_names(categoric_cols))"
   ]
  },
  {
   "cell_type": "code",
   "execution_count": 8,
   "metadata": {
    "colab": {
     "base_uri": "https://localhost:8080/",
     "height": 196
    },
    "id": "cv6pIx4BDeRO",
    "outputId": "c959ba59-a25e-4660-d896-7b7e911f7ff2"
   },
   "outputs": [
    {
     "data": {
      "text/html": [
       "<div>\n",
       "<style scoped>\n",
       "    .dataframe tbody tr th:only-of-type {\n",
       "        vertical-align: middle;\n",
       "    }\n",
       "\n",
       "    .dataframe tbody tr th {\n",
       "        vertical-align: top;\n",
       "    }\n",
       "\n",
       "    .dataframe thead th {\n",
       "        text-align: right;\n",
       "    }\n",
       "</style>\n",
       "<table border=\"1\" class=\"dataframe\">\n",
       "  <thead>\n",
       "    <tr style=\"text-align: right;\">\n",
       "      <th></th>\n",
       "      <th>Type_h</th>\n",
       "      <th>Type_t</th>\n",
       "      <th>Type_u</th>\n",
       "      <th>CouncilArea_Banyule</th>\n",
       "      <th>CouncilArea_Bayside</th>\n",
       "      <th>CouncilArea_Boroondara</th>\n",
       "      <th>CouncilArea_Brimbank</th>\n",
       "      <th>CouncilArea_Cardinia</th>\n",
       "      <th>CouncilArea_Casey</th>\n",
       "      <th>CouncilArea_Darebin</th>\n",
       "      <th>...</th>\n",
       "      <th>Suburb_Yarra Glen</th>\n",
       "      <th>Suburb_Yarraville</th>\n",
       "      <th>Regionname_Eastern Metropolitan</th>\n",
       "      <th>Regionname_Eastern Victoria</th>\n",
       "      <th>Regionname_Northern Metropolitan</th>\n",
       "      <th>Regionname_Northern Victoria</th>\n",
       "      <th>Regionname_South-Eastern Metropolitan</th>\n",
       "      <th>Regionname_Southern Metropolitan</th>\n",
       "      <th>Regionname_Western Metropolitan</th>\n",
       "      <th>Regionname_Western Victoria</th>\n",
       "    </tr>\n",
       "  </thead>\n",
       "  <tbody>\n",
       "    <tr>\n",
       "      <th>0</th>\n",
       "      <td>1.0</td>\n",
       "      <td>0.0</td>\n",
       "      <td>0.0</td>\n",
       "      <td>0.0</td>\n",
       "      <td>0.0</td>\n",
       "      <td>0.0</td>\n",
       "      <td>0.0</td>\n",
       "      <td>0.0</td>\n",
       "      <td>0.0</td>\n",
       "      <td>0.0</td>\n",
       "      <td>...</td>\n",
       "      <td>0.0</td>\n",
       "      <td>0.0</td>\n",
       "      <td>0.0</td>\n",
       "      <td>0.0</td>\n",
       "      <td>1.0</td>\n",
       "      <td>0.0</td>\n",
       "      <td>0.0</td>\n",
       "      <td>0.0</td>\n",
       "      <td>0.0</td>\n",
       "      <td>0.0</td>\n",
       "    </tr>\n",
       "    <tr>\n",
       "      <th>1</th>\n",
       "      <td>1.0</td>\n",
       "      <td>0.0</td>\n",
       "      <td>0.0</td>\n",
       "      <td>0.0</td>\n",
       "      <td>0.0</td>\n",
       "      <td>0.0</td>\n",
       "      <td>0.0</td>\n",
       "      <td>0.0</td>\n",
       "      <td>0.0</td>\n",
       "      <td>0.0</td>\n",
       "      <td>...</td>\n",
       "      <td>0.0</td>\n",
       "      <td>0.0</td>\n",
       "      <td>0.0</td>\n",
       "      <td>0.0</td>\n",
       "      <td>1.0</td>\n",
       "      <td>0.0</td>\n",
       "      <td>0.0</td>\n",
       "      <td>0.0</td>\n",
       "      <td>0.0</td>\n",
       "      <td>0.0</td>\n",
       "    </tr>\n",
       "  </tbody>\n",
       "</table>\n",
       "<p>2 rows × 329 columns</p>\n",
       "</div>"
      ],
      "text/plain": [
       "   Type_h  Type_t  Type_u  CouncilArea_Banyule  CouncilArea_Bayside  \\\n",
       "0     1.0     0.0     0.0                  0.0                  0.0   \n",
       "1     1.0     0.0     0.0                  0.0                  0.0   \n",
       "\n",
       "   CouncilArea_Boroondara  CouncilArea_Brimbank  CouncilArea_Cardinia  \\\n",
       "0                     0.0                   0.0                   0.0   \n",
       "1                     0.0                   0.0                   0.0   \n",
       "\n",
       "   CouncilArea_Casey  CouncilArea_Darebin  ...  Suburb_Yarra Glen  \\\n",
       "0                0.0                  0.0  ...                0.0   \n",
       "1                0.0                  0.0  ...                0.0   \n",
       "\n",
       "   Suburb_Yarraville  Regionname_Eastern Metropolitan  \\\n",
       "0                0.0                              0.0   \n",
       "1                0.0                              0.0   \n",
       "\n",
       "   Regionname_Eastern Victoria  Regionname_Northern Metropolitan  \\\n",
       "0                          0.0                               1.0   \n",
       "1                          0.0                               1.0   \n",
       "\n",
       "   Regionname_Northern Victoria  Regionname_South-Eastern Metropolitan  \\\n",
       "0                           0.0                                    0.0   \n",
       "1                           0.0                                    0.0   \n",
       "\n",
       "   Regionname_Southern Metropolitan  Regionname_Western Metropolitan  \\\n",
       "0                               0.0                              0.0   \n",
       "1                               0.0                              0.0   \n",
       "\n",
       "   Regionname_Western Victoria  \n",
       "0                          0.0  \n",
       "1                          0.0  \n",
       "\n",
       "[2 rows x 329 columns]"
      ]
     },
     "execution_count": 8,
     "metadata": {},
     "output_type": "execute_result"
    }
   ],
   "source": [
    "df_encoded.head(2)"
   ]
  },
  {
   "cell_type": "code",
   "execution_count": 9,
   "metadata": {
    "colab": {
     "base_uri": "https://localhost:8080/"
    },
    "id": "knS6RNReyG98",
    "outputId": "cea122a1-74c7-4521-f4fe-f687be623da6"
   },
   "outputs": [
    {
     "data": {
      "text/plain": [
       "(6196, 329)"
      ]
     },
     "execution_count": 9,
     "metadata": {},
     "output_type": "execute_result"
    }
   ],
   "source": [
    "df_encoded.shape"
   ]
  },
  {
   "cell_type": "markdown",
   "metadata": {
    "id": "ismngxPcfoWb"
   },
   "source": [
    "## Ejercicio 2: Imputación por KNN\n",
    "\n",
    "En el teórico se presentó el método `IterativeImputer` para imputar valores faltantes en variables numéricas. Sin embargo, los ejemplos presentados sólo utilizaban algunas variables numéricas presentes en el conjunto de datos. En este ejercicio, utilizaremos la matriz de datos codificada para imputar datos faltantes de manera más precisa.\n",
    "\n",
    "1. Agregue a la matriz obtenida en el punto anterior las columnas `YearBuilt` y `BuildingArea`.\n",
    "2. Aplique una instancia de `IterativeImputer` con un estimador `KNeighborsRegressor` para imputar los valores de las variables. ¿Es necesario estandarizar o escalar los datos previamente?\n",
    "3. Realice un gráfico mostrando la distribución de cada variable antes de ser imputada, y con ambos métodos de imputación."
   ]
  },
  {
   "cell_type": "code",
   "execution_count": 10,
   "metadata": {
    "id": "YqObSG4Nak2X"
   },
   "outputs": [],
   "source": [
    "numeric_cols =['Rooms', 'Bedroom2', 'Bathroom', 'Car', 'Distance', 'Propertycount']"
   ]
  },
  {
   "cell_type": "code",
   "execution_count": 11,
   "metadata": {
    "id": "gklhytbGEa_L"
   },
   "outputs": [],
   "source": [
    "df_melb_numeric= df_melb[numeric_cols]\n",
    "df_melb_numeric = pd.concat([df_melb_numeric, df_melb[['YearBuilt', 'BuildingArea']]])"
   ]
  },
  {
   "cell_type": "code",
   "execution_count": 12,
   "metadata": {
    "id": "TAmoCfMTlUtY"
   },
   "outputs": [],
   "source": [
    "scaler = preprocessing.StandardScaler().fit(df_melb_numeric[['Rooms', 'Bedroom2', 'Bathroom', 'Car', 'Distance', 'Propertycount','YearBuilt','BuildingArea']])\n",
    "df_melb_numeric_scaled = scaler.transform(df_melb_numeric[['Rooms', 'Bedroom2', 'Bathroom', 'Car', 'Distance', 'Propertycount','YearBuilt','BuildingArea']])"
   ]
  },
  {
   "cell_type": "code",
   "execution_count": 13,
   "metadata": {
    "id": "sp3i_VTbKTqp"
   },
   "outputs": [],
   "source": [
    "df_melb_numeric_scaled = pd.DataFrame(df_melb_numeric_scaled, columns=['Rooms', 'Bedroom2', 'Bathroom', 'Car', 'Distance', 'Propertycount','YearBuilt','BuildingArea'])"
   ]
  },
  {
   "cell_type": "code",
   "execution_count": 14,
   "metadata": {
    "colab": {
     "base_uri": "https://localhost:8080/",
     "height": 206
    },
    "id": "XQfWui70Kj8W",
    "outputId": "db5aaaa6-4414-488c-c903-f3dfcf21edee"
   },
   "outputs": [
    {
     "data": {
      "text/html": [
       "<div>\n",
       "<style scoped>\n",
       "    .dataframe tbody tr th:only-of-type {\n",
       "        vertical-align: middle;\n",
       "    }\n",
       "\n",
       "    .dataframe tbody tr th {\n",
       "        vertical-align: top;\n",
       "    }\n",
       "\n",
       "    .dataframe thead th {\n",
       "        text-align: right;\n",
       "    }\n",
       "</style>\n",
       "<table border=\"1\" class=\"dataframe\">\n",
       "  <thead>\n",
       "    <tr style=\"text-align: right;\">\n",
       "      <th></th>\n",
       "      <th>Rooms</th>\n",
       "      <th>Bedroom2</th>\n",
       "      <th>Bathroom</th>\n",
       "      <th>Car</th>\n",
       "      <th>Distance</th>\n",
       "      <th>Propertycount</th>\n",
       "      <th>YearBuilt</th>\n",
       "      <th>BuildingArea</th>\n",
       "    </tr>\n",
       "  </thead>\n",
       "  <tbody>\n",
       "    <tr>\n",
       "      <th>0</th>\n",
       "      <td>-0.959224</td>\n",
       "      <td>-0.929954</td>\n",
       "      <td>-0.810257</td>\n",
       "      <td>-1.692272</td>\n",
       "      <td>-1.292159</td>\n",
       "      <td>-0.787691</td>\n",
       "      <td>NaN</td>\n",
       "      <td>NaN</td>\n",
       "    </tr>\n",
       "    <tr>\n",
       "      <th>1</th>\n",
       "      <td>0.070641</td>\n",
       "      <td>0.100999</td>\n",
       "      <td>0.595611</td>\n",
       "      <td>-1.692272</td>\n",
       "      <td>-1.292159</td>\n",
       "      <td>-0.787691</td>\n",
       "      <td>NaN</td>\n",
       "      <td>NaN</td>\n",
       "    </tr>\n",
       "    <tr>\n",
       "      <th>2</th>\n",
       "      <td>1.100507</td>\n",
       "      <td>0.100999</td>\n",
       "      <td>-0.810257</td>\n",
       "      <td>0.458562</td>\n",
       "      <td>-1.292159</td>\n",
       "      <td>-0.787691</td>\n",
       "      <td>NaN</td>\n",
       "      <td>NaN</td>\n",
       "    </tr>\n",
       "    <tr>\n",
       "      <th>3</th>\n",
       "      <td>0.070641</td>\n",
       "      <td>1.131952</td>\n",
       "      <td>0.595611</td>\n",
       "      <td>-1.692272</td>\n",
       "      <td>-1.292159</td>\n",
       "      <td>-0.787691</td>\n",
       "      <td>NaN</td>\n",
       "      <td>NaN</td>\n",
       "    </tr>\n",
       "    <tr>\n",
       "      <th>4</th>\n",
       "      <td>-0.959224</td>\n",
       "      <td>-0.929954</td>\n",
       "      <td>-0.810257</td>\n",
       "      <td>0.458562</td>\n",
       "      <td>-1.292159</td>\n",
       "      <td>-0.787691</td>\n",
       "      <td>NaN</td>\n",
       "      <td>NaN</td>\n",
       "    </tr>\n",
       "  </tbody>\n",
       "</table>\n",
       "</div>"
      ],
      "text/plain": [
       "      Rooms  Bedroom2  Bathroom       Car  Distance  Propertycount  YearBuilt  \\\n",
       "0 -0.959224 -0.929954 -0.810257 -1.692272 -1.292159      -0.787691        NaN   \n",
       "1  0.070641  0.100999  0.595611 -1.692272 -1.292159      -0.787691        NaN   \n",
       "2  1.100507  0.100999 -0.810257  0.458562 -1.292159      -0.787691        NaN   \n",
       "3  0.070641  1.131952  0.595611 -1.692272 -1.292159      -0.787691        NaN   \n",
       "4 -0.959224 -0.929954 -0.810257  0.458562 -1.292159      -0.787691        NaN   \n",
       "\n",
       "   BuildingArea  \n",
       "0           NaN  \n",
       "1           NaN  \n",
       "2           NaN  \n",
       "3           NaN  \n",
       "4           NaN  "
      ]
     },
     "execution_count": 14,
     "metadata": {},
     "output_type": "execute_result"
    }
   ],
   "source": [
    "df_melb_numeric_scaled.head()"
   ]
  },
  {
   "cell_type": "code",
   "execution_count": 15,
   "metadata": {
    "colab": {
     "base_uri": "https://localhost:8080/"
    },
    "id": "hIGLIdCNGMS2",
    "outputId": "7297f9cb-4fdd-4261-ca86-d7b1a810abbb"
   },
   "outputs": [
    {
     "data": {
      "text/plain": [
       "Rooms            6196\n",
       "Bedroom2         6196\n",
       "Bathroom         6196\n",
       "Car              6196\n",
       "Distance         6196\n",
       "Propertycount    6196\n",
       "YearBuilt        6196\n",
       "BuildingArea     6196\n",
       "dtype: int64"
      ]
     },
     "execution_count": 15,
     "metadata": {},
     "output_type": "execute_result"
    }
   ],
   "source": [
    "df_melb_numeric_scaled.isna().sum()"
   ]
  },
  {
   "cell_type": "code",
   "execution_count": 16,
   "metadata": {
    "colab": {
     "base_uri": "https://localhost:8080/"
    },
    "id": "G4ClSr_JapCw",
    "outputId": "7c42f66d-5995-43d7-f5e0-4334a182ff5f"
   },
   "outputs": [
    {
     "name": "stderr",
     "output_type": "stream",
     "text": [
      "C:\\Users\\gabyd\\anaconda3\\envs\\Diplo\\lib\\site-packages\\sklearn\\impute\\_iterative.py:685: ConvergenceWarning: [IterativeImputer] Early stopping criterion not reached.\n",
      "  warnings.warn(\"[IterativeImputer] Early stopping criterion not\"\n"
     ]
    }
   ],
   "source": [
    "from sklearn.experimental import enable_iterative_imputer\n",
    "from sklearn.neighbors import KNeighborsRegressor\n",
    "from sklearn.impute import IterativeImputer\n",
    "\n",
    "melb_data_mice = df_melb_numeric_scaled.copy(deep=True)\n",
    "\n",
    "mice_imputer = IterativeImputer(random_state=0, estimator=KNeighborsRegressor())\n",
    "melb_data_mice[['YearBuilt','BuildingArea']] = mice_imputer.fit_transform(\n",
    "    melb_data_mice[['YearBuilt', 'BuildingArea']])"
   ]
  },
  {
   "cell_type": "code",
   "execution_count": 17,
   "metadata": {
    "colab": {
     "base_uri": "https://localhost:8080/",
     "height": 424
    },
    "id": "jK1p0P1ObtgK",
    "outputId": "d6f00859-776d-4374-834e-3114cce84727"
   },
   "outputs": [
    {
     "data": {
      "text/html": [
       "<div>\n",
       "<style scoped>\n",
       "    .dataframe tbody tr th:only-of-type {\n",
       "        vertical-align: middle;\n",
       "    }\n",
       "\n",
       "    .dataframe tbody tr th {\n",
       "        vertical-align: top;\n",
       "    }\n",
       "\n",
       "    .dataframe thead th {\n",
       "        text-align: right;\n",
       "    }\n",
       "</style>\n",
       "<table border=\"1\" class=\"dataframe\">\n",
       "  <thead>\n",
       "    <tr style=\"text-align: right;\">\n",
       "      <th></th>\n",
       "      <th>Rooms</th>\n",
       "      <th>Bedroom2</th>\n",
       "      <th>Bathroom</th>\n",
       "      <th>Car</th>\n",
       "      <th>Distance</th>\n",
       "      <th>Propertycount</th>\n",
       "      <th>YearBuilt</th>\n",
       "      <th>BuildingArea</th>\n",
       "    </tr>\n",
       "  </thead>\n",
       "  <tbody>\n",
       "    <tr>\n",
       "      <th>0</th>\n",
       "      <td>-0.959224</td>\n",
       "      <td>-0.929954</td>\n",
       "      <td>-0.810257</td>\n",
       "      <td>-1.692272</td>\n",
       "      <td>-1.292159</td>\n",
       "      <td>-0.787691</td>\n",
       "      <td>-0.306593</td>\n",
       "      <td>-0.488494</td>\n",
       "    </tr>\n",
       "    <tr>\n",
       "      <th>1</th>\n",
       "      <td>0.070641</td>\n",
       "      <td>0.100999</td>\n",
       "      <td>0.595611</td>\n",
       "      <td>-1.692272</td>\n",
       "      <td>-1.292159</td>\n",
       "      <td>-0.787691</td>\n",
       "      <td>-0.306593</td>\n",
       "      <td>-0.488494</td>\n",
       "    </tr>\n",
       "    <tr>\n",
       "      <th>2</th>\n",
       "      <td>1.100507</td>\n",
       "      <td>0.100999</td>\n",
       "      <td>-0.810257</td>\n",
       "      <td>0.458562</td>\n",
       "      <td>-1.292159</td>\n",
       "      <td>-0.787691</td>\n",
       "      <td>-0.306593</td>\n",
       "      <td>-0.488494</td>\n",
       "    </tr>\n",
       "    <tr>\n",
       "      <th>3</th>\n",
       "      <td>0.070641</td>\n",
       "      <td>1.131952</td>\n",
       "      <td>0.595611</td>\n",
       "      <td>-1.692272</td>\n",
       "      <td>-1.292159</td>\n",
       "      <td>-0.787691</td>\n",
       "      <td>-0.306593</td>\n",
       "      <td>-0.488494</td>\n",
       "    </tr>\n",
       "    <tr>\n",
       "      <th>4</th>\n",
       "      <td>-0.959224</td>\n",
       "      <td>-0.929954</td>\n",
       "      <td>-0.810257</td>\n",
       "      <td>0.458562</td>\n",
       "      <td>-1.292159</td>\n",
       "      <td>-0.787691</td>\n",
       "      <td>-0.306593</td>\n",
       "      <td>-0.488494</td>\n",
       "    </tr>\n",
       "    <tr>\n",
       "      <th>...</th>\n",
       "      <td>...</td>\n",
       "      <td>...</td>\n",
       "      <td>...</td>\n",
       "      <td>...</td>\n",
       "      <td>...</td>\n",
       "      <td>...</td>\n",
       "      <td>...</td>\n",
       "      <td>...</td>\n",
       "    </tr>\n",
       "    <tr>\n",
       "      <th>12387</th>\n",
       "      <td>NaN</td>\n",
       "      <td>NaN</td>\n",
       "      <td>NaN</td>\n",
       "      <td>NaN</td>\n",
       "      <td>NaN</td>\n",
       "      <td>NaN</td>\n",
       "      <td>0.837686</td>\n",
       "      <td>0.081818</td>\n",
       "    </tr>\n",
       "    <tr>\n",
       "      <th>12388</th>\n",
       "      <td>NaN</td>\n",
       "      <td>NaN</td>\n",
       "      <td>NaN</td>\n",
       "      <td>NaN</td>\n",
       "      <td>NaN</td>\n",
       "      <td>NaN</td>\n",
       "      <td>-1.944277</td>\n",
       "      <td>-0.292518</td>\n",
       "    </tr>\n",
       "    <tr>\n",
       "      <th>12389</th>\n",
       "      <td>NaN</td>\n",
       "      <td>NaN</td>\n",
       "      <td>NaN</td>\n",
       "      <td>NaN</td>\n",
       "      <td>NaN</td>\n",
       "      <td>NaN</td>\n",
       "      <td>0.076583</td>\n",
       "      <td>-1.166262</td>\n",
       "    </tr>\n",
       "    <tr>\n",
       "      <th>12390</th>\n",
       "      <td>NaN</td>\n",
       "      <td>NaN</td>\n",
       "      <td>NaN</td>\n",
       "      <td>NaN</td>\n",
       "      <td>NaN</td>\n",
       "      <td>NaN</td>\n",
       "      <td>1.257605</td>\n",
       "      <td>-0.880445</td>\n",
       "    </tr>\n",
       "    <tr>\n",
       "      <th>12391</th>\n",
       "      <td>NaN</td>\n",
       "      <td>NaN</td>\n",
       "      <td>NaN</td>\n",
       "      <td>NaN</td>\n",
       "      <td>NaN</td>\n",
       "      <td>NaN</td>\n",
       "      <td>-1.156929</td>\n",
       "      <td>2.718685</td>\n",
       "    </tr>\n",
       "  </tbody>\n",
       "</table>\n",
       "<p>12392 rows × 8 columns</p>\n",
       "</div>"
      ],
      "text/plain": [
       "          Rooms  Bedroom2  Bathroom       Car  Distance  Propertycount  \\\n",
       "0     -0.959224 -0.929954 -0.810257 -1.692272 -1.292159      -0.787691   \n",
       "1      0.070641  0.100999  0.595611 -1.692272 -1.292159      -0.787691   \n",
       "2      1.100507  0.100999 -0.810257  0.458562 -1.292159      -0.787691   \n",
       "3      0.070641  1.131952  0.595611 -1.692272 -1.292159      -0.787691   \n",
       "4     -0.959224 -0.929954 -0.810257  0.458562 -1.292159      -0.787691   \n",
       "...         ...       ...       ...       ...       ...            ...   \n",
       "12387       NaN       NaN       NaN       NaN       NaN            NaN   \n",
       "12388       NaN       NaN       NaN       NaN       NaN            NaN   \n",
       "12389       NaN       NaN       NaN       NaN       NaN            NaN   \n",
       "12390       NaN       NaN       NaN       NaN       NaN            NaN   \n",
       "12391       NaN       NaN       NaN       NaN       NaN            NaN   \n",
       "\n",
       "       YearBuilt  BuildingArea  \n",
       "0      -0.306593     -0.488494  \n",
       "1      -0.306593     -0.488494  \n",
       "2      -0.306593     -0.488494  \n",
       "3      -0.306593     -0.488494  \n",
       "4      -0.306593     -0.488494  \n",
       "...          ...           ...  \n",
       "12387   0.837686      0.081818  \n",
       "12388  -1.944277     -0.292518  \n",
       "12389   0.076583     -1.166262  \n",
       "12390   1.257605     -0.880445  \n",
       "12391  -1.156929      2.718685  \n",
       "\n",
       "[12392 rows x 8 columns]"
      ]
     },
     "execution_count": 17,
     "metadata": {},
     "output_type": "execute_result"
    }
   ],
   "source": [
    "melb_data_mice"
   ]
  },
  {
   "cell_type": "code",
   "execution_count": 18,
   "metadata": {
    "id": "PMK1ktqYQTJK"
   },
   "outputs": [],
   "source": [
    "melb_year_build_orig = df_melb.YearBuilt.dropna().to_frame()\n",
    "melb_year_build_orig['No Imputation'] = 'Original'"
   ]
  },
  {
   "cell_type": "code",
   "execution_count": 19,
   "metadata": {
    "id": "lwx0SjCddIs1"
   },
   "outputs": [],
   "source": [
    "melb_build_area_orig = df_melb.BuildingArea.dropna().to_frame()\n",
    "melb_build_area_orig['No Imputation'] = 'Original'"
   ]
  },
  {
   "cell_type": "code",
   "execution_count": 20,
   "metadata": {
    "id": "uEnt-duYG9_A"
   },
   "outputs": [],
   "source": [
    "mice_build_area_esc = melb_data_mice.BuildingArea.to_frame()\n",
    "mice_build_area_esc['Imputation'] = 'KNN over BuildingArea'"
   ]
  },
  {
   "cell_type": "code",
   "execution_count": 21,
   "metadata": {
    "id": "P0pwDLyYdOpC"
   },
   "outputs": [],
   "source": [
    "mice_year_built_esc = melb_data_mice.YearBuilt.to_frame()\n",
    "mice_year_built_esc['Imputation'] = 'KNN over YearBuilt'"
   ]
  },
  {
   "cell_type": "code",
   "execution_count": 22,
   "metadata": {
    "colab": {
     "base_uri": "https://localhost:8080/",
     "height": 428
    },
    "id": "JgYf6u7vI124",
    "outputId": "06ec50fd-c0fe-43cf-c5b5-0331f4d2bbae"
   },
   "outputs": [
    {
     "data": {
      "text/plain": [
       "<AxesSubplot:xlabel='BuildingArea', ylabel='Density'>"
      ]
     },
     "execution_count": 22,
     "metadata": {},
     "output_type": "execute_result"
    },
    {
     "data": {
      "image/png": "[encoded data removed]",
      "text/plain": [
       "<Figure size 1440x432 with 2 Axes>"
      ]
     },
     "metadata": {
      "needs_background": "light"
     },
     "output_type": "display_data"
    }
   ],
   "source": [
    "fig, ax = plt.subplots(1,2, figsize=(20,6))\n",
    "sns.kdeplot(data=melb_year_build_orig, x='YearBuilt', hue='No Imputation', ax=ax[0], )\n",
    "sns.kdeplot(data=melb_build_area_orig, x='BuildingArea', hue='No Imputation', ax=ax[1])"
   ]
  },
  {
   "cell_type": "code",
   "execution_count": 23,
   "metadata": {
    "colab": {
     "base_uri": "https://localhost:8080/",
     "height": 435
    },
    "id": "IunNREzNehL8",
    "outputId": "529aafb8-be8f-476a-8dba-fa674047c601"
   },
   "outputs": [
    {
     "data": {
      "text/plain": [
       "<AxesSubplot:xlabel='BuildingArea', ylabel='Density'>"
      ]
     },
     "execution_count": 23,
     "metadata": {},
     "output_type": "execute_result"
    },
    {
     "data": {
      "image/png": "[encoded data removed]",
      "text/plain": [
       "<Figure size 1440x432 with 2 Axes>"
      ]
     },
     "metadata": {
      "needs_background": "light"
     },
     "output_type": "display_data"
    }
   ],
   "source": [
    "fig, ax = plt.subplots(1,2, figsize=(20,6))\n",
    "plt.xlim(-5, 5)\n",
    "sns.kdeplot(data=mice_year_built_esc, x='YearBuilt', hue='Imputation', ax=ax[0])\n",
    "sns.kdeplot(data=mice_build_area_esc, x='BuildingArea', hue='Imputation', ax=ax[1])"
   ]
  },
  {
   "cell_type": "code",
   "execution_count": 24,
   "metadata": {
    "colab": {
     "base_uri": "https://localhost:8080/"
    },
    "id": "azOeYZ3PF3uW",
    "outputId": "4d9e9bf6-0683-4103-e733-be8a2ceb5f26"
   },
   "outputs": [
    {
     "data": {
      "text/plain": [
       "Rooms            6196\n",
       "Bedroom2         6196\n",
       "Bathroom         6196\n",
       "Car              6196\n",
       "Distance         6196\n",
       "Propertycount    6196\n",
       "YearBuilt           0\n",
       "BuildingArea        0\n",
       "dtype: int64"
      ]
     },
     "execution_count": 24,
     "metadata": {},
     "output_type": "execute_result"
    }
   ],
   "source": [
    "melb_data_mice.isna().sum()"
   ]
  },
  {
   "cell_type": "code",
   "execution_count": 25,
   "metadata": {
    "id": "yCiXTUA4LG5a"
   },
   "outputs": [
    {
     "data": {
      "text/html": [
       "<div>\n",
       "<style scoped>\n",
       "    .dataframe tbody tr th:only-of-type {\n",
       "        vertical-align: middle;\n",
       "    }\n",
       "\n",
       "    .dataframe tbody tr th {\n",
       "        vertical-align: top;\n",
       "    }\n",
       "\n",
       "    .dataframe thead th {\n",
       "        text-align: right;\n",
       "    }\n",
       "</style>\n",
       "<table border=\"1\" class=\"dataframe\">\n",
       "  <thead>\n",
       "    <tr style=\"text-align: right;\">\n",
       "      <th></th>\n",
       "      <th>Type_h</th>\n",
       "      <th>Type_t</th>\n",
       "      <th>Type_u</th>\n",
       "      <th>CouncilArea_Banyule</th>\n",
       "      <th>CouncilArea_Bayside</th>\n",
       "      <th>CouncilArea_Boroondara</th>\n",
       "      <th>CouncilArea_Brimbank</th>\n",
       "      <th>CouncilArea_Cardinia</th>\n",
       "      <th>CouncilArea_Casey</th>\n",
       "      <th>CouncilArea_Darebin</th>\n",
       "      <th>...</th>\n",
       "      <th>Regionname_Western Metropolitan</th>\n",
       "      <th>Regionname_Western Victoria</th>\n",
       "      <th>Rooms</th>\n",
       "      <th>Bedroom2</th>\n",
       "      <th>Bathroom</th>\n",
       "      <th>Car</th>\n",
       "      <th>Distance</th>\n",
       "      <th>Propertycount</th>\n",
       "      <th>YearBuilt</th>\n",
       "      <th>BuildingArea</th>\n",
       "    </tr>\n",
       "  </thead>\n",
       "  <tbody>\n",
       "    <tr>\n",
       "      <th>0</th>\n",
       "      <td>1.0</td>\n",
       "      <td>0.0</td>\n",
       "      <td>0.0</td>\n",
       "      <td>0.0</td>\n",
       "      <td>0.0</td>\n",
       "      <td>0.0</td>\n",
       "      <td>0.0</td>\n",
       "      <td>0.0</td>\n",
       "      <td>0.0</td>\n",
       "      <td>0.0</td>\n",
       "      <td>...</td>\n",
       "      <td>0.0</td>\n",
       "      <td>0.0</td>\n",
       "      <td>-0.959224</td>\n",
       "      <td>-0.929954</td>\n",
       "      <td>-0.810257</td>\n",
       "      <td>-1.692272</td>\n",
       "      <td>-1.292159</td>\n",
       "      <td>-0.787691</td>\n",
       "      <td>-0.306593</td>\n",
       "      <td>-0.488494</td>\n",
       "    </tr>\n",
       "    <tr>\n",
       "      <th>1</th>\n",
       "      <td>1.0</td>\n",
       "      <td>0.0</td>\n",
       "      <td>0.0</td>\n",
       "      <td>0.0</td>\n",
       "      <td>0.0</td>\n",
       "      <td>0.0</td>\n",
       "      <td>0.0</td>\n",
       "      <td>0.0</td>\n",
       "      <td>0.0</td>\n",
       "      <td>0.0</td>\n",
       "      <td>...</td>\n",
       "      <td>0.0</td>\n",
       "      <td>0.0</td>\n",
       "      <td>0.070641</td>\n",
       "      <td>0.100999</td>\n",
       "      <td>0.595611</td>\n",
       "      <td>-1.692272</td>\n",
       "      <td>-1.292159</td>\n",
       "      <td>-0.787691</td>\n",
       "      <td>-0.306593</td>\n",
       "      <td>-0.488494</td>\n",
       "    </tr>\n",
       "    <tr>\n",
       "      <th>2</th>\n",
       "      <td>1.0</td>\n",
       "      <td>0.0</td>\n",
       "      <td>0.0</td>\n",
       "      <td>0.0</td>\n",
       "      <td>0.0</td>\n",
       "      <td>0.0</td>\n",
       "      <td>0.0</td>\n",
       "      <td>0.0</td>\n",
       "      <td>0.0</td>\n",
       "      <td>0.0</td>\n",
       "      <td>...</td>\n",
       "      <td>0.0</td>\n",
       "      <td>0.0</td>\n",
       "      <td>1.100507</td>\n",
       "      <td>0.100999</td>\n",
       "      <td>-0.810257</td>\n",
       "      <td>0.458562</td>\n",
       "      <td>-1.292159</td>\n",
       "      <td>-0.787691</td>\n",
       "      <td>-0.306593</td>\n",
       "      <td>-0.488494</td>\n",
       "    </tr>\n",
       "    <tr>\n",
       "      <th>3</th>\n",
       "      <td>1.0</td>\n",
       "      <td>0.0</td>\n",
       "      <td>0.0</td>\n",
       "      <td>0.0</td>\n",
       "      <td>0.0</td>\n",
       "      <td>0.0</td>\n",
       "      <td>0.0</td>\n",
       "      <td>0.0</td>\n",
       "      <td>0.0</td>\n",
       "      <td>0.0</td>\n",
       "      <td>...</td>\n",
       "      <td>0.0</td>\n",
       "      <td>0.0</td>\n",
       "      <td>0.070641</td>\n",
       "      <td>1.131952</td>\n",
       "      <td>0.595611</td>\n",
       "      <td>-1.692272</td>\n",
       "      <td>-1.292159</td>\n",
       "      <td>-0.787691</td>\n",
       "      <td>-0.306593</td>\n",
       "      <td>-0.488494</td>\n",
       "    </tr>\n",
       "    <tr>\n",
       "      <th>4</th>\n",
       "      <td>1.0</td>\n",
       "      <td>0.0</td>\n",
       "      <td>0.0</td>\n",
       "      <td>0.0</td>\n",
       "      <td>0.0</td>\n",
       "      <td>0.0</td>\n",
       "      <td>0.0</td>\n",
       "      <td>0.0</td>\n",
       "      <td>0.0</td>\n",
       "      <td>0.0</td>\n",
       "      <td>...</td>\n",
       "      <td>0.0</td>\n",
       "      <td>0.0</td>\n",
       "      <td>-0.959224</td>\n",
       "      <td>-0.929954</td>\n",
       "      <td>-0.810257</td>\n",
       "      <td>0.458562</td>\n",
       "      <td>-1.292159</td>\n",
       "      <td>-0.787691</td>\n",
       "      <td>-0.306593</td>\n",
       "      <td>-0.488494</td>\n",
       "    </tr>\n",
       "    <tr>\n",
       "      <th>...</th>\n",
       "      <td>...</td>\n",
       "      <td>...</td>\n",
       "      <td>...</td>\n",
       "      <td>...</td>\n",
       "      <td>...</td>\n",
       "      <td>...</td>\n",
       "      <td>...</td>\n",
       "      <td>...</td>\n",
       "      <td>...</td>\n",
       "      <td>...</td>\n",
       "      <td>...</td>\n",
       "      <td>...</td>\n",
       "      <td>...</td>\n",
       "      <td>...</td>\n",
       "      <td>...</td>\n",
       "      <td>...</td>\n",
       "      <td>...</td>\n",
       "      <td>...</td>\n",
       "      <td>...</td>\n",
       "      <td>...</td>\n",
       "      <td>...</td>\n",
       "    </tr>\n",
       "    <tr>\n",
       "      <th>6191</th>\n",
       "      <td>1.0</td>\n",
       "      <td>0.0</td>\n",
       "      <td>0.0</td>\n",
       "      <td>0.0</td>\n",
       "      <td>0.0</td>\n",
       "      <td>0.0</td>\n",
       "      <td>0.0</td>\n",
       "      <td>0.0</td>\n",
       "      <td>0.0</td>\n",
       "      <td>0.0</td>\n",
       "      <td>...</td>\n",
       "      <td>0.0</td>\n",
       "      <td>0.0</td>\n",
       "      <td>0.070641</td>\n",
       "      <td>0.100999</td>\n",
       "      <td>0.595611</td>\n",
       "      <td>-0.616855</td>\n",
       "      <td>4.588503</td>\n",
       "      <td>-1.213988</td>\n",
       "      <td>-0.306593</td>\n",
       "      <td>-0.488494</td>\n",
       "    </tr>\n",
       "    <tr>\n",
       "      <th>6192</th>\n",
       "      <td>1.0</td>\n",
       "      <td>0.0</td>\n",
       "      <td>0.0</td>\n",
       "      <td>0.0</td>\n",
       "      <td>0.0</td>\n",
       "      <td>0.0</td>\n",
       "      <td>0.0</td>\n",
       "      <td>0.0</td>\n",
       "      <td>0.0</td>\n",
       "      <td>0.0</td>\n",
       "      <td>...</td>\n",
       "      <td>1.0</td>\n",
       "      <td>0.0</td>\n",
       "      <td>0.070641</td>\n",
       "      <td>0.100999</td>\n",
       "      <td>-0.810257</td>\n",
       "      <td>-1.692272</td>\n",
       "      <td>-0.525891</td>\n",
       "      <td>-0.243349</td>\n",
       "      <td>-0.306593</td>\n",
       "      <td>-0.488494</td>\n",
       "    </tr>\n",
       "    <tr>\n",
       "      <th>6193</th>\n",
       "      <td>0.0</td>\n",
       "      <td>0.0</td>\n",
       "      <td>1.0</td>\n",
       "      <td>0.0</td>\n",
       "      <td>0.0</td>\n",
       "      <td>0.0</td>\n",
       "      <td>0.0</td>\n",
       "      <td>0.0</td>\n",
       "      <td>0.0</td>\n",
       "      <td>0.0</td>\n",
       "      <td>...</td>\n",
       "      <td>1.0</td>\n",
       "      <td>0.0</td>\n",
       "      <td>-1.989090</td>\n",
       "      <td>-1.960907</td>\n",
       "      <td>-0.810257</td>\n",
       "      <td>-0.616855</td>\n",
       "      <td>-0.525891</td>\n",
       "      <td>-0.243349</td>\n",
       "      <td>-0.306593</td>\n",
       "      <td>-0.488494</td>\n",
       "    </tr>\n",
       "    <tr>\n",
       "      <th>6194</th>\n",
       "      <td>0.0</td>\n",
       "      <td>0.0</td>\n",
       "      <td>1.0</td>\n",
       "      <td>0.0</td>\n",
       "      <td>0.0</td>\n",
       "      <td>0.0</td>\n",
       "      <td>0.0</td>\n",
       "      <td>0.0</td>\n",
       "      <td>0.0</td>\n",
       "      <td>0.0</td>\n",
       "      <td>...</td>\n",
       "      <td>0.0</td>\n",
       "      <td>0.0</td>\n",
       "      <td>-0.959224</td>\n",
       "      <td>-0.929954</td>\n",
       "      <td>-0.810257</td>\n",
       "      <td>-0.616855</td>\n",
       "      <td>-0.917935</td>\n",
       "      <td>-0.704460</td>\n",
       "      <td>-0.306593</td>\n",
       "      <td>-0.488494</td>\n",
       "    </tr>\n",
       "    <tr>\n",
       "      <th>6195</th>\n",
       "      <td>1.0</td>\n",
       "      <td>0.0</td>\n",
       "      <td>0.0</td>\n",
       "      <td>0.0</td>\n",
       "      <td>0.0</td>\n",
       "      <td>0.0</td>\n",
       "      <td>0.0</td>\n",
       "      <td>0.0</td>\n",
       "      <td>0.0</td>\n",
       "      <td>0.0</td>\n",
       "      <td>...</td>\n",
       "      <td>1.0</td>\n",
       "      <td>0.0</td>\n",
       "      <td>3.160238</td>\n",
       "      <td>3.193857</td>\n",
       "      <td>2.001478</td>\n",
       "      <td>0.458562</td>\n",
       "      <td>-0.614992</td>\n",
       "      <td>-0.205768</td>\n",
       "      <td>-0.306593</td>\n",
       "      <td>-0.488494</td>\n",
       "    </tr>\n",
       "  </tbody>\n",
       "</table>\n",
       "<p>6196 rows × 337 columns</p>\n",
       "</div>"
      ],
      "text/plain": [
       "      Type_h  Type_t  Type_u  CouncilArea_Banyule  CouncilArea_Bayside  \\\n",
       "0        1.0     0.0     0.0                  0.0                  0.0   \n",
       "1        1.0     0.0     0.0                  0.0                  0.0   \n",
       "2        1.0     0.0     0.0                  0.0                  0.0   \n",
       "3        1.0     0.0     0.0                  0.0                  0.0   \n",
       "4        1.0     0.0     0.0                  0.0                  0.0   \n",
       "...      ...     ...     ...                  ...                  ...   \n",
       "6191     1.0     0.0     0.0                  0.0                  0.0   \n",
       "6192     1.0     0.0     0.0                  0.0                  0.0   \n",
       "6193     0.0     0.0     1.0                  0.0                  0.0   \n",
       "6194     0.0     0.0     1.0                  0.0                  0.0   \n",
       "6195     1.0     0.0     0.0                  0.0                  0.0   \n",
       "\n",
       "      CouncilArea_Boroondara  CouncilArea_Brimbank  CouncilArea_Cardinia  \\\n",
       "0                        0.0                   0.0                   0.0   \n",
       "1                        0.0                   0.0                   0.0   \n",
       "2                        0.0                   0.0                   0.0   \n",
       "3                        0.0                   0.0                   0.0   \n",
       "4                        0.0                   0.0                   0.0   \n",
       "...                      ...                   ...                   ...   \n",
       "6191                     0.0                   0.0                   0.0   \n",
       "6192                     0.0                   0.0                   0.0   \n",
       "6193                     0.0                   0.0                   0.0   \n",
       "6194                     0.0                   0.0                   0.0   \n",
       "6195                     0.0                   0.0                   0.0   \n",
       "\n",
       "      CouncilArea_Casey  CouncilArea_Darebin  ...  \\\n",
       "0                   0.0                  0.0  ...   \n",
       "1                   0.0                  0.0  ...   \n",
       "2                   0.0                  0.0  ...   \n",
       "3                   0.0                  0.0  ...   \n",
       "4                   0.0                  0.0  ...   \n",
       "...                 ...                  ...  ...   \n",
       "6191                0.0                  0.0  ...   \n",
       "6192                0.0                  0.0  ...   \n",
       "6193                0.0                  0.0  ...   \n",
       "6194                0.0                  0.0  ...   \n",
       "6195                0.0                  0.0  ...   \n",
       "\n",
       "      Regionname_Western Metropolitan  Regionname_Western Victoria     Rooms  \\\n",
       "0                                 0.0                          0.0 -0.959224   \n",
       "1                                 0.0                          0.0  0.070641   \n",
       "2                                 0.0                          0.0  1.100507   \n",
       "3                                 0.0                          0.0  0.070641   \n",
       "4                                 0.0                          0.0 -0.959224   \n",
       "...                               ...                          ...       ...   \n",
       "6191                              0.0                          0.0  0.070641   \n",
       "6192                              1.0                          0.0  0.070641   \n",
       "6193                              1.0                          0.0 -1.989090   \n",
       "6194                              0.0                          0.0 -0.959224   \n",
       "6195                              1.0                          0.0  3.160238   \n",
       "\n",
       "      Bedroom2  Bathroom       Car  Distance  Propertycount  YearBuilt  \\\n",
       "0    -0.929954 -0.810257 -1.692272 -1.292159      -0.787691  -0.306593   \n",
       "1     0.100999  0.595611 -1.692272 -1.292159      -0.787691  -0.306593   \n",
       "2     0.100999 -0.810257  0.458562 -1.292159      -0.787691  -0.306593   \n",
       "3     1.131952  0.595611 -1.692272 -1.292159      -0.787691  -0.306593   \n",
       "4    -0.929954 -0.810257  0.458562 -1.292159      -0.787691  -0.306593   \n",
       "...        ...       ...       ...       ...            ...        ...   \n",
       "6191  0.100999  0.595611 -0.616855  4.588503      -1.213988  -0.306593   \n",
       "6192  0.100999 -0.810257 -1.692272 -0.525891      -0.243349  -0.306593   \n",
       "6193 -1.960907 -0.810257 -0.616855 -0.525891      -0.243349  -0.306593   \n",
       "6194 -0.929954 -0.810257 -0.616855 -0.917935      -0.704460  -0.306593   \n",
       "6195  3.193857  2.001478  0.458562 -0.614992      -0.205768  -0.306593   \n",
       "\n",
       "      BuildingArea  \n",
       "0        -0.488494  \n",
       "1        -0.488494  \n",
       "2        -0.488494  \n",
       "3        -0.488494  \n",
       "4        -0.488494  \n",
       "...            ...  \n",
       "6191     -0.488494  \n",
       "6192     -0.488494  \n",
       "6193     -0.488494  \n",
       "6194     -0.488494  \n",
       "6195     -0.488494  \n",
       "\n",
       "[6196 rows x 337 columns]"
      ]
     },
     "execution_count": 25,
     "metadata": {},
     "output_type": "execute_result"
    }
   ],
   "source": [
    "melb_df_final = pd.concat([df_encoded,melb_data_mice], axis=1)\n",
    "melb_df_final = melb_df_final.dropna()\n",
    "melb_df_final"
   ]
  },
  {
   "cell_type": "markdown",
   "metadata": {
    "id": "NBN7-5OIxjJW"
   },
   "source": [
    "## Ejercicio 3: Reducción de dimensionalidad.\n",
    "\n",
    "Utilizando la matriz obtenida en el ejercicio anterior:\n",
    "1. Aplique `PCA` para obtener $n$ componentes principales de la matriz, donde `n = min(20, X.shape[0])`. ¿Es necesario estandarizar o escalar los datos?\n",
    "2. Grafique la varianza capturada por los primeros $n$ componentes principales, para cada $n$.\n",
    "3. En base al gráfico, seleccione las primeras $m$ columnas de la matriz transformada para agregar como nuevas características al conjunto de datos."
   ]
  },
  {
   "cell_type": "code",
   "execution_count": 26,
   "metadata": {
    "id": "xsZ2P_h9hjg3"
   },
   "outputs": [],
   "source": [
    "from sklearn.decomposition import PCA\n",
    "pca = PCA().fit_transform(melb_df_final)"
   ]
  },
  {
   "cell_type": "code",
   "execution_count": 27,
   "metadata": {
    "colab": {
     "base_uri": "https://localhost:8080/"
    },
    "id": "9luNDJxPTa7S",
    "outputId": "4ab49f61-9468-44f7-9046-beaca46411a6"
   },
   "outputs": [
    {
     "data": {
      "text/plain": [
       "(6196, 337)"
      ]
     },
     "execution_count": 27,
     "metadata": {},
     "output_type": "execute_result"
    }
   ],
   "source": [
    "pca.shape"
   ]
  },
  {
   "cell_type": "code",
   "execution_count": 28,
   "metadata": {
    "id": "81aQzO6sk2Y6"
   },
   "outputs": [],
   "source": [
    "ex_variance=np.var(pca,axis=0)\n",
    "ex_variance_ratio = ex_variance/np.sum(ex_variance)"
   ]
  },
  {
   "cell_type": "markdown",
   "metadata": {
    "id": "RS05nLZmNLpi"
   },
   "source": [
    "Antes de aplicar PCA es necesario estandarizar siempre ya que el analisis de componentes principales es un método de reduccion de variables que identifica aquellas direcciones en las que la varianza es mayor. Como la varianza de una variable se mide en su misma escala elevada al cuadrado, si antes de calcular las componentes no se estandarizan todas las variables para que tengan media 0 y desviación estándar 1, aquellas variables cuya escala sea mayor dominarán al resto. De ahí que sea recomendable estandarizar siempre los datos. "
   ]
  },
  {
   "cell_type": "code",
   "execution_count": 29,
   "metadata": {
    "id": "mwEkPbT0mwHu"
   },
   "outputs": [],
   "source": [
    "covar_matrix = PCA(n_components = 337)"
   ]
  },
  {
   "cell_type": "code",
   "execution_count": 30,
   "metadata": {
    "id": "sTPVnA21mx7O"
   },
   "outputs": [],
   "source": [
    "covar_matrix.fit(melb_df_final)\n",
    "variance = covar_matrix.explained_variance_ratio_ "
   ]
  },
  {
   "cell_type": "code",
   "execution_count": 31,
   "metadata": {
    "id": "Gm40ycRenER3"
   },
   "outputs": [],
   "source": [
    "var=np.cumsum(np.round(covar_matrix.explained_variance_ratio_, decimals=3)*100)"
   ]
  },
  {
   "cell_type": "code",
   "execution_count": 32,
   "metadata": {
    "colab": {
     "base_uri": "https://localhost:8080/",
     "height": 339
    },
    "id": "hfoh_I-znN36",
    "outputId": "809625fa-6eb7-4265-a53e-d206013b5491"
   },
   "outputs": [
    {
     "data": {
      "text/plain": [
       "[<matplotlib.lines.Line2D at 0x17a4c738610>]"
      ]
     },
     "execution_count": 32,
     "metadata": {},
     "output_type": "execute_result"
    },
    {
     "data": {
      "image/png": "[encoded data removed]",
      "text/plain": [
       "<Figure size 432x288 with 1 Axes>"
      ]
     },
     "metadata": {
      "needs_background": "light"
     },
     "output_type": "display_data"
    }
   ],
   "source": [
    "plt.ylabel('% Variance Explained')\n",
    "plt.xlabel('# of Features')\n",
    "plt.title('PCA Analysis')\n",
    "plt.ylim(30,100.5)\n",
    "plt.style.context('seaborn-whitegrid')\n",
    "\n",
    "\n",
    "plt.plot(var)"
   ]
  },
  {
   "cell_type": "markdown",
   "metadata": {
    "id": "S3RcZQDJzuE6"
   },
   "source": [
    "Elegimos las primeras 88 columnas, ya que contienen el 97% de la varianza total, luego alcanza el plateau."
   ]
  },
  {
   "cell_type": "code",
   "execution_count": 33,
   "metadata": {
    "colab": {
     "base_uri": "https://localhost:8080/",
     "height": 256
    },
    "id": "PlVS-IbZwkl8",
    "outputId": "2626339b-1093-46d2-d4c6-84e88e6999d5"
   },
   "outputs": [
    {
     "data": {
      "text/html": [
       "<div>\n",
       "<style scoped>\n",
       "    .dataframe tbody tr th:only-of-type {\n",
       "        vertical-align: middle;\n",
       "    }\n",
       "\n",
       "    .dataframe tbody tr th {\n",
       "        vertical-align: top;\n",
       "    }\n",
       "\n",
       "    .dataframe thead th {\n",
       "        text-align: right;\n",
       "    }\n",
       "</style>\n",
       "<table border=\"1\" class=\"dataframe\">\n",
       "  <thead>\n",
       "    <tr style=\"text-align: right;\">\n",
       "      <th></th>\n",
       "      <th>0</th>\n",
       "      <th>1</th>\n",
       "      <th>2</th>\n",
       "      <th>3</th>\n",
       "      <th>4</th>\n",
       "      <th>5</th>\n",
       "      <th>6</th>\n",
       "      <th>7</th>\n",
       "      <th>8</th>\n",
       "      <th>9</th>\n",
       "      <th>...</th>\n",
       "      <th>77</th>\n",
       "      <th>78</th>\n",
       "      <th>79</th>\n",
       "      <th>80</th>\n",
       "      <th>81</th>\n",
       "      <th>82</th>\n",
       "      <th>83</th>\n",
       "      <th>84</th>\n",
       "      <th>85</th>\n",
       "      <th>86</th>\n",
       "    </tr>\n",
       "  </thead>\n",
       "  <tbody>\n",
       "    <tr>\n",
       "      <th>0</th>\n",
       "      <td>-2.173470</td>\n",
       "      <td>-0.488494</td>\n",
       "      <td>-1.325264</td>\n",
       "      <td>-0.685873</td>\n",
       "      <td>-0.716720</td>\n",
       "      <td>0.543343</td>\n",
       "      <td>-0.569045</td>\n",
       "      <td>-0.628424</td>\n",
       "      <td>0.079555</td>\n",
       "      <td>-0.037482</td>\n",
       "      <td>...</td>\n",
       "      <td>-0.144829</td>\n",
       "      <td>-0.333448</td>\n",
       "      <td>-0.080097</td>\n",
       "      <td>0.027989</td>\n",
       "      <td>-0.273683</td>\n",
       "      <td>-0.589908</td>\n",
       "      <td>-0.202661</td>\n",
       "      <td>0.053342</td>\n",
       "      <td>-0.043231</td>\n",
       "      <td>0.001294</td>\n",
       "    </tr>\n",
       "    <tr>\n",
       "      <th>1</th>\n",
       "      <td>-0.476368</td>\n",
       "      <td>-0.016528</td>\n",
       "      <td>-2.023759</td>\n",
       "      <td>-1.072412</td>\n",
       "      <td>-0.253644</td>\n",
       "      <td>0.795937</td>\n",
       "      <td>-0.564300</td>\n",
       "      <td>-0.395132</td>\n",
       "      <td>0.100034</td>\n",
       "      <td>-0.170260</td>\n",
       "      <td>...</td>\n",
       "      <td>-0.144581</td>\n",
       "      <td>-0.332000</td>\n",
       "      <td>-0.078465</td>\n",
       "      <td>0.026038</td>\n",
       "      <td>-0.274776</td>\n",
       "      <td>-0.590810</td>\n",
       "      <td>-0.203805</td>\n",
       "      <td>0.048269</td>\n",
       "      <td>-0.042770</td>\n",
       "      <td>0.003533</td>\n",
       "    </tr>\n",
       "    <tr>\n",
       "      <th>2</th>\n",
       "      <td>0.235708</td>\n",
       "      <td>-0.137798</td>\n",
       "      <td>-1.060597</td>\n",
       "      <td>0.541758</td>\n",
       "      <td>-1.693508</td>\n",
       "      <td>-0.038605</td>\n",
       "      <td>-0.653157</td>\n",
       "      <td>0.108542</td>\n",
       "      <td>0.118207</td>\n",
       "      <td>-0.065890</td>\n",
       "      <td>...</td>\n",
       "      <td>-0.133043</td>\n",
       "      <td>-0.334757</td>\n",
       "      <td>-0.073153</td>\n",
       "      <td>0.034968</td>\n",
       "      <td>-0.261147</td>\n",
       "      <td>-0.599285</td>\n",
       "      <td>-0.200915</td>\n",
       "      <td>0.055858</td>\n",
       "      <td>-0.043766</td>\n",
       "      <td>0.004042</td>\n",
       "    </tr>\n",
       "    <tr>\n",
       "      <th>3</th>\n",
       "      <td>0.075275</td>\n",
       "      <td>0.085257</td>\n",
       "      <td>-2.152180</td>\n",
       "      <td>-1.289337</td>\n",
       "      <td>-0.493865</td>\n",
       "      <td>0.628537</td>\n",
       "      <td>-0.581741</td>\n",
       "      <td>-0.130589</td>\n",
       "      <td>0.115262</td>\n",
       "      <td>-0.208808</td>\n",
       "      <td>...</td>\n",
       "      <td>-0.146170</td>\n",
       "      <td>-0.336988</td>\n",
       "      <td>-0.085700</td>\n",
       "      <td>0.030637</td>\n",
       "      <td>-0.273325</td>\n",
       "      <td>-0.587240</td>\n",
       "      <td>-0.208496</td>\n",
       "      <td>0.043555</td>\n",
       "      <td>-0.034887</td>\n",
       "      <td>0.004906</td>\n",
       "    </tr>\n",
       "    <tr>\n",
       "      <th>4</th>\n",
       "      <td>-1.416375</td>\n",
       "      <td>-0.440492</td>\n",
       "      <td>-0.661567</td>\n",
       "      <td>1.195207</td>\n",
       "      <td>-0.955015</td>\n",
       "      <td>0.502399</td>\n",
       "      <td>-0.620642</td>\n",
       "      <td>-0.600166</td>\n",
       "      <td>0.107294</td>\n",
       "      <td>-0.024140</td>\n",
       "      <td>...</td>\n",
       "      <td>-0.143726</td>\n",
       "      <td>-0.338103</td>\n",
       "      <td>-0.081286</td>\n",
       "      <td>0.035382</td>\n",
       "      <td>-0.260892</td>\n",
       "      <td>-0.593335</td>\n",
       "      <td>-0.205954</td>\n",
       "      <td>0.049529</td>\n",
       "      <td>-0.037639</td>\n",
       "      <td>0.003143</td>\n",
       "    </tr>\n",
       "  </tbody>\n",
       "</table>\n",
       "<p>5 rows × 87 columns</p>\n",
       "</div>"
      ],
      "text/plain": [
       "         0         1         2         3         4         5         6   \\\n",
       "0 -2.173470 -0.488494 -1.325264 -0.685873 -0.716720  0.543343 -0.569045   \n",
       "1 -0.476368 -0.016528 -2.023759 -1.072412 -0.253644  0.795937 -0.564300   \n",
       "2  0.235708 -0.137798 -1.060597  0.541758 -1.693508 -0.038605 -0.653157   \n",
       "3  0.075275  0.085257 -2.152180 -1.289337 -0.493865  0.628537 -0.581741   \n",
       "4 -1.416375 -0.440492 -0.661567  1.195207 -0.955015  0.502399 -0.620642   \n",
       "\n",
       "         7         8         9   ...        77        78        79        80  \\\n",
       "0 -0.628424  0.079555 -0.037482  ... -0.144829 -0.333448 -0.080097  0.027989   \n",
       "1 -0.395132  0.100034 -0.170260  ... -0.144581 -0.332000 -0.078465  0.026038   \n",
       "2  0.108542  0.118207 -0.065890  ... -0.133043 -0.334757 -0.073153  0.034968   \n",
       "3 -0.130589  0.115262 -0.208808  ... -0.146170 -0.336988 -0.085700  0.030637   \n",
       "4 -0.600166  0.107294 -0.024140  ... -0.143726 -0.338103 -0.081286  0.035382   \n",
       "\n",
       "         81        82        83        84        85        86  \n",
       "0 -0.273683 -0.589908 -0.202661  0.053342 -0.043231  0.001294  \n",
       "1 -0.274776 -0.590810 -0.203805  0.048269 -0.042770  0.003533  \n",
       "2 -0.261147 -0.599285 -0.200915  0.055858 -0.043766  0.004042  \n",
       "3 -0.273325 -0.587240 -0.208496  0.043555 -0.034887  0.004906  \n",
       "4 -0.260892 -0.593335 -0.205954  0.049529 -0.037639  0.003143  \n",
       "\n",
       "[5 rows x 87 columns]"
      ]
     },
     "execution_count": 33,
     "metadata": {},
     "output_type": "execute_result"
    }
   ],
   "source": [
    "processed_melb_df = pd.DataFrame(data=pca[:,:87])\n",
    "processed_melb_df.head()"
   ]
  },
  {
   "cell_type": "code",
   "execution_count": 34,
   "metadata": {
    "id": "oFOMPtXqVwRS"
   },
   "outputs": [],
   "source": [
    "processed_melb_df.to_csv(\"melb_pca.csv\")"
   ]
  },
  {
   "cell_type": "markdown",
   "metadata": {
    "id": "WrZTYmG_ZyDy"
   },
   "source": [
    "## Ejercicio 4: Composición del resultado\n",
    "\n",
    "Transformar nuevamente el conjunto de datos procesado en un `pandas.DataFrame` y guardarlo en un archivo.\n",
    "\n",
    "Para eso, será necesario recordar el nombre original de cada columna de la matriz, en el orden correcto. Tener en cuenta:\n",
    "1. El método `OneHotEncoder.get_feature_names` o el atributo `OneHotEncoder.categories_` permiten obtener una lista con los valores de la categoría que le corresponde a cada índice de la matriz.\n",
    "2. Ninguno de los métodos aplicados intercambia de lugar las columnas o las filas de la matriz."
   ]
  },
  {
   "cell_type": "code",
   "execution_count": 35,
   "metadata": {
    "colab": {
     "base_uri": "https://localhost:8080/",
     "height": 280
    },
    "id": "DfchYPgTxvQ4",
    "outputId": "5ae9cbd0-a28d-4f17-8bc7-0232953eb1bf"
   },
   "outputs": [
    {
     "name": "stdout",
     "output_type": "stream",
     "text": [
      "Matrix has shape (6196, 11), with columns: ['Type=h', 'Type=t', 'Type=u', 'Regionname=Eastern Metropolitan', 'Regionname=Eastern Victoria', 'Regionname=Northern Metropolitan', 'Regionname=Northern Victoria', 'Regionname=South-Eastern Metropolitan', 'Regionname=Southern Metropolitan', 'Regionname=Western Metropolitan', 'Regionname=Western Victoria']\n",
      "Matrix has shape (6196, 11), with columns: ['Type=h', 'Type=t', 'Type=u', 'Regionname=Eastern Metropolitan', 'Regionname=Eastern Victoria', 'Regionname=Northern Metropolitan', 'Regionname=Northern Victoria', 'Regionname=South-Eastern Metropolitan', 'Regionname=Southern Metropolitan', 'Regionname=Western Metropolitan', 'Regionname=Western Victoria', 'Rooms', 'Distance']\n"
     ]
    },
    {
     "data": {
      "text/html": [
       "<div>\n",
       "<style scoped>\n",
       "    .dataframe tbody tr th:only-of-type {\n",
       "        vertical-align: middle;\n",
       "    }\n",
       "\n",
       "    .dataframe tbody tr th {\n",
       "        vertical-align: top;\n",
       "    }\n",
       "\n",
       "    .dataframe thead th {\n",
       "        text-align: right;\n",
       "    }\n",
       "</style>\n",
       "<table border=\"1\" class=\"dataframe\">\n",
       "  <thead>\n",
       "    <tr style=\"text-align: right;\">\n",
       "      <th></th>\n",
       "      <th>Type=h</th>\n",
       "      <th>Type=t</th>\n",
       "      <th>Type=u</th>\n",
       "      <th>Regionname=Eastern Metropolitan</th>\n",
       "      <th>Regionname=Eastern Victoria</th>\n",
       "      <th>Regionname=Northern Metropolitan</th>\n",
       "      <th>Regionname=Northern Victoria</th>\n",
       "      <th>Regionname=South-Eastern Metropolitan</th>\n",
       "      <th>Regionname=Southern Metropolitan</th>\n",
       "      <th>Regionname=Western Metropolitan</th>\n",
       "      <th>Regionname=Western Victoria</th>\n",
       "      <th>Rooms</th>\n",
       "      <th>Distance</th>\n",
       "      <th>pca1</th>\n",
       "      <th>pca2</th>\n",
       "    </tr>\n",
       "  </thead>\n",
       "  <tbody>\n",
       "    <tr>\n",
       "      <th>0</th>\n",
       "      <td>1.0</td>\n",
       "      <td>0.0</td>\n",
       "      <td>0.0</td>\n",
       "      <td>0.0</td>\n",
       "      <td>0.0</td>\n",
       "      <td>1.0</td>\n",
       "      <td>0.0</td>\n",
       "      <td>0.0</td>\n",
       "      <td>0.0</td>\n",
       "      <td>0.0</td>\n",
       "      <td>0.0</td>\n",
       "      <td>2.0</td>\n",
       "      <td>2.5</td>\n",
       "      <td>-7.283769</td>\n",
       "      <td>-0.281861</td>\n",
       "    </tr>\n",
       "    <tr>\n",
       "      <th>1</th>\n",
       "      <td>1.0</td>\n",
       "      <td>0.0</td>\n",
       "      <td>0.0</td>\n",
       "      <td>0.0</td>\n",
       "      <td>0.0</td>\n",
       "      <td>1.0</td>\n",
       "      <td>0.0</td>\n",
       "      <td>0.0</td>\n",
       "      <td>0.0</td>\n",
       "      <td>0.0</td>\n",
       "      <td>0.0</td>\n",
       "      <td>3.0</td>\n",
       "      <td>2.5</td>\n",
       "      <td>-7.233087</td>\n",
       "      <td>0.622421</td>\n",
       "    </tr>\n",
       "    <tr>\n",
       "      <th>2</th>\n",
       "      <td>1.0</td>\n",
       "      <td>0.0</td>\n",
       "      <td>0.0</td>\n",
       "      <td>0.0</td>\n",
       "      <td>0.0</td>\n",
       "      <td>1.0</td>\n",
       "      <td>0.0</td>\n",
       "      <td>0.0</td>\n",
       "      <td>0.0</td>\n",
       "      <td>0.0</td>\n",
       "      <td>0.0</td>\n",
       "      <td>4.0</td>\n",
       "      <td>2.5</td>\n",
       "      <td>-7.182406</td>\n",
       "      <td>1.526703</td>\n",
       "    </tr>\n",
       "    <tr>\n",
       "      <th>3</th>\n",
       "      <td>1.0</td>\n",
       "      <td>0.0</td>\n",
       "      <td>0.0</td>\n",
       "      <td>0.0</td>\n",
       "      <td>0.0</td>\n",
       "      <td>1.0</td>\n",
       "      <td>0.0</td>\n",
       "      <td>0.0</td>\n",
       "      <td>0.0</td>\n",
       "      <td>0.0</td>\n",
       "      <td>0.0</td>\n",
       "      <td>3.0</td>\n",
       "      <td>2.5</td>\n",
       "      <td>-7.233087</td>\n",
       "      <td>0.622421</td>\n",
       "    </tr>\n",
       "    <tr>\n",
       "      <th>4</th>\n",
       "      <td>1.0</td>\n",
       "      <td>0.0</td>\n",
       "      <td>0.0</td>\n",
       "      <td>0.0</td>\n",
       "      <td>0.0</td>\n",
       "      <td>1.0</td>\n",
       "      <td>0.0</td>\n",
       "      <td>0.0</td>\n",
       "      <td>0.0</td>\n",
       "      <td>0.0</td>\n",
       "      <td>0.0</td>\n",
       "      <td>2.0</td>\n",
       "      <td>2.5</td>\n",
       "      <td>-7.283769</td>\n",
       "      <td>-0.281861</td>\n",
       "    </tr>\n",
       "  </tbody>\n",
       "</table>\n",
       "</div>"
      ],
      "text/plain": [
       "   Type=h  Type=t  Type=u  Regionname=Eastern Metropolitan  \\\n",
       "0     1.0     0.0     0.0                              0.0   \n",
       "1     1.0     0.0     0.0                              0.0   \n",
       "2     1.0     0.0     0.0                              0.0   \n",
       "3     1.0     0.0     0.0                              0.0   \n",
       "4     1.0     0.0     0.0                              0.0   \n",
       "\n",
       "   Regionname=Eastern Victoria  Regionname=Northern Metropolitan  \\\n",
       "0                          0.0                               1.0   \n",
       "1                          0.0                               1.0   \n",
       "2                          0.0                               1.0   \n",
       "3                          0.0                               1.0   \n",
       "4                          0.0                               1.0   \n",
       "\n",
       "   Regionname=Northern Victoria  Regionname=South-Eastern Metropolitan  \\\n",
       "0                           0.0                                    0.0   \n",
       "1                           0.0                                    0.0   \n",
       "2                           0.0                                    0.0   \n",
       "3                           0.0                                    0.0   \n",
       "4                           0.0                                    0.0   \n",
       "\n",
       "   Regionname=Southern Metropolitan  Regionname=Western Metropolitan  \\\n",
       "0                               0.0                              0.0   \n",
       "1                               0.0                              0.0   \n",
       "2                               0.0                              0.0   \n",
       "3                               0.0                              0.0   \n",
       "4                               0.0                              0.0   \n",
       "\n",
       "   Regionname=Western Victoria  Rooms  Distance      pca1      pca2  \n",
       "0                          0.0    2.0       2.5 -7.283769 -0.281861  \n",
       "1                          0.0    3.0       2.5 -7.233087  0.622421  \n",
       "2                          0.0    4.0       2.5 -7.182406  1.526703  \n",
       "3                          0.0    3.0       2.5 -7.233087  0.622421  \n",
       "4                          0.0    2.0       2.5 -7.283769 -0.281861  "
      ]
     },
     "execution_count": 35,
     "metadata": {},
     "output_type": "execute_result"
    }
   ],
   "source": [
    "## Small example\n",
    "from sklearn.decomposition import PCA\n",
    "from sklearn.preprocessing import OneHotEncoder\n",
    "\n",
    "## If we process our data with the following steps:\n",
    "categorical_cols = ['Type', 'Regionname']\n",
    "numerical_cols = ['Rooms', 'Distance']\n",
    "new_columns = []\n",
    "\n",
    "# Step 1: encode categorical columns\n",
    "encoder = OneHotEncoder(handle_unknown='ignore', sparse=False)\n",
    "X_cat = encoder.fit_transform(df_melb[categorical_cols])\n",
    "for col, col_values in zip(categorical_cols, encoder.categories_):\n",
    "  for col_value in col_values:\n",
    "    new_columns.append('{}={}'.format(col, col_value))\n",
    "print(\"Matrix has shape {}, with columns: {}\".format(X_cat.shape, new_columns))\n",
    "\n",
    "# Step 2: Append the numerical columns\n",
    "import numpy\n",
    "import pandas\n",
    "X = numpy.hstack([X_cat, df_melb[numerical_cols].values])\n",
    "new_columns.extend(numerical_cols)\n",
    "print(\"Matrix has shape {}, with columns: {}\".format(X_cat.shape, new_columns))\n",
    "\n",
    "# Step 3: Append some new features, like PCA\n",
    "pca = PCA(n_components=2)\n",
    "pca_dummy_features = pca.fit_transform(X)\n",
    "X_pca = numpy.hstack([X, pca_dummy_features])\n",
    "new_columns.extend(['pca1', 'pca2'])\n",
    "\n",
    "## Re-build dataframe\n",
    "processed_melb_df = pandas.DataFrame(data=X_pca, columns=new_columns)\n",
    "processed_melb_df.head()"
   ]
  },
  {
   "cell_type": "code",
   "execution_count": 36,
   "metadata": {
    "id": "NRnJGWXFlctj"
   },
   "outputs": [],
   "source": [
    "melb_df_final.to_csv(\"melb_df_final\")"
   ]
  },
  {
   "cell_type": "markdown",
   "metadata": {
    "id": "mVBLFc8PhRtW"
   },
   "source": [
    "## Ejercicio 5: Documentación\n",
    "\n",
    "En un documento `.pdf` o `.md` realizar un reporte de las operaciones que realizaron para obtener el conjunto de datos final. Se debe incluir:\n",
    "  1. Criterios de exclusión (o inclusión) de filas\n",
    "  2. Interpretación de las columnas presentes\n",
    "  2. Todas las transofrmaciones realizadas\n",
    "\n",
    "Este documento es de uso técnico exclusivamente, y su objetivo es permitir que otres desarrolladores puedan reproducir los mismos pasos y obtener el mismo resultado. Debe ser detallado pero consiso. Por ejemplo:\n",
    "\n",
    "```\n",
    "  ## Criterios de exclusión de ejemplos\n",
    "  1. Se eliminan ejemplos donde el año de construcción es previo a 1900\n",
    "\n",
    "  ## Características seleccionadas\n",
    "  ### Características categóricas\n",
    "  1. Type: tipo de propiedad. 3 valores posibles\n",
    "  2. ...\n",
    "  Todas las características categóricas fueron codificadas con un\n",
    "  método OneHotEncoding utilizando como máximo sus 30 valores más \n",
    "  frecuentes.\n",
    "  \n",
    "  ### Características numéricas\n",
    "  1. Rooms: Cantidad de habitaciones\n",
    "  2. Distance: Distancia al centro de la ciudad.\n",
    "  3. airbnb_mean_price: Se agrega el precio promedio diario de \n",
    "     publicaciones de la plataforma AirBnB en el mismo código \n",
    "     postal. [Link al repositorio con datos externos].\n",
    "\n",
    "  ### Transformaciones:\n",
    "  1. Todas las características numéricas fueron estandarizadas.\n",
    "  2. La columna `Suburb` fue imputada utilizando el método ...\n",
    "  3. Las columnas `YearBuilt` y ... fueron imputadas utilizando el \n",
    "     algoritmo ...\n",
    "  4. ...\n",
    "\n",
    "  ### Datos aumentados\n",
    "  1. Se agregan las 5 primeras columnas obtenidas a través del\n",
    "     método de PCA, aplicado sobre el conjunto de datos\n",
    "     totalmente procesado.\n",
    "```\n"
   ]
  }
 ],
 "metadata": {
  "colab": {
   "collapsed_sections": [],
   "name": "Entregable_Parte_2_general.ipynb",
   "provenance": []
  },
  "kernelspec": {
   "display_name": "Python 3",
   "language": "python",
   "name": "python3"
  },
  "language_info": {
   "codemirror_mode": {
    "name": "ipython",
    "version": 3
   },
   "file_extension": ".py",
   "mimetype": "text/x-python",
   "name": "python",
   "nbconvert_exporter": "python",
   "pygments_lexer": "ipython3",
   "version": "3.8.10"
  }
 },
 "nbformat": 4,
 "nbformat_minor": 4
}
